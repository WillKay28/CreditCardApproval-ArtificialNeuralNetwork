{
 "cells": [
  {
   "cell_type": "markdown",
   "id": "7623e8b1",
   "metadata": {},
   "source": [
    "# Modeling Credit Card Approval Data Using ANN\n",
    "Several credit card applications are received by banks and other financial institutions all year round. Whether a customer's application is approved or not depends on several factors like income, employment status, age, credit worthiness among others. It's impossible to analyze these applications manually. Machine Learning models provide an automated process of approving or rejecting credit card applications. \n",
    "\n",
    "In this project, we analyze and predit the approval ratings of credit cards with respect to features including gender, age, debt, married, bank customer, industry, ethnicity, years employed, prior default, employed, credit score, driver's license, citizen, zipcode, income and approved (target feature) using a deep learning model (Artificial Neural Network (ANN)). We use precision, recall, f1-score to measure performance of our ANN model."
   ]
  },
  {
   "cell_type": "code",
   "execution_count": 4,
   "id": "eaf987a8",
   "metadata": {},
   "outputs": [],
   "source": [
    "import pandas as pd\n",
    "import numpy as np\n",
    "import seaborn as sns\n",
    "from matplotlib import pyplot as plt\n",
    "from sklearn.model_selection import train_test_split\n",
    "%matplotlib inline"
   ]
  },
  {
   "cell_type": "markdown",
   "id": "2e32fff8",
   "metadata": {},
   "source": [
    "### Loading the Data"
   ]
  },
  {
   "cell_type": "code",
   "execution_count": 6,
   "id": "b63ac859",
   "metadata": {},
   "outputs": [
    {
     "data": {
      "text/html": [
       "<div>\n",
       "<style scoped>\n",
       "    .dataframe tbody tr th:only-of-type {\n",
       "        vertical-align: middle;\n",
       "    }\n",
       "\n",
       "    .dataframe tbody tr th {\n",
       "        vertical-align: top;\n",
       "    }\n",
       "\n",
       "    .dataframe thead th {\n",
       "        text-align: right;\n",
       "    }\n",
       "</style>\n",
       "<table border=\"1\" class=\"dataframe\">\n",
       "  <thead>\n",
       "    <tr style=\"text-align: right;\">\n",
       "      <th></th>\n",
       "      <th>Gender</th>\n",
       "      <th>Age</th>\n",
       "      <th>Debt</th>\n",
       "      <th>Married</th>\n",
       "      <th>BankCustomer</th>\n",
       "      <th>Industry</th>\n",
       "      <th>Ethnicity</th>\n",
       "      <th>YearsEmployed</th>\n",
       "      <th>PriorDefault</th>\n",
       "      <th>Employed</th>\n",
       "      <th>CreditScore</th>\n",
       "      <th>DriversLicense</th>\n",
       "      <th>Citizen</th>\n",
       "      <th>ZipCode</th>\n",
       "      <th>Income</th>\n",
       "      <th>Approved</th>\n",
       "    </tr>\n",
       "  </thead>\n",
       "  <tbody>\n",
       "    <tr>\n",
       "      <th>0</th>\n",
       "      <td>1</td>\n",
       "      <td>30.83</td>\n",
       "      <td>0.000</td>\n",
       "      <td>1</td>\n",
       "      <td>1</td>\n",
       "      <td>Industrials</td>\n",
       "      <td>White</td>\n",
       "      <td>1.25</td>\n",
       "      <td>1</td>\n",
       "      <td>1</td>\n",
       "      <td>1</td>\n",
       "      <td>0</td>\n",
       "      <td>ByBirth</td>\n",
       "      <td>202</td>\n",
       "      <td>0</td>\n",
       "      <td>1</td>\n",
       "    </tr>\n",
       "    <tr>\n",
       "      <th>1</th>\n",
       "      <td>0</td>\n",
       "      <td>58.67</td>\n",
       "      <td>4.460</td>\n",
       "      <td>1</td>\n",
       "      <td>1</td>\n",
       "      <td>Materials</td>\n",
       "      <td>Black</td>\n",
       "      <td>3.04</td>\n",
       "      <td>1</td>\n",
       "      <td>1</td>\n",
       "      <td>6</td>\n",
       "      <td>0</td>\n",
       "      <td>ByBirth</td>\n",
       "      <td>43</td>\n",
       "      <td>560</td>\n",
       "      <td>1</td>\n",
       "    </tr>\n",
       "    <tr>\n",
       "      <th>2</th>\n",
       "      <td>0</td>\n",
       "      <td>24.50</td>\n",
       "      <td>0.500</td>\n",
       "      <td>1</td>\n",
       "      <td>1</td>\n",
       "      <td>Materials</td>\n",
       "      <td>Black</td>\n",
       "      <td>1.50</td>\n",
       "      <td>1</td>\n",
       "      <td>0</td>\n",
       "      <td>0</td>\n",
       "      <td>0</td>\n",
       "      <td>ByBirth</td>\n",
       "      <td>280</td>\n",
       "      <td>824</td>\n",
       "      <td>1</td>\n",
       "    </tr>\n",
       "    <tr>\n",
       "      <th>3</th>\n",
       "      <td>1</td>\n",
       "      <td>27.83</td>\n",
       "      <td>1.540</td>\n",
       "      <td>1</td>\n",
       "      <td>1</td>\n",
       "      <td>Industrials</td>\n",
       "      <td>White</td>\n",
       "      <td>3.75</td>\n",
       "      <td>1</td>\n",
       "      <td>1</td>\n",
       "      <td>5</td>\n",
       "      <td>1</td>\n",
       "      <td>ByBirth</td>\n",
       "      <td>100</td>\n",
       "      <td>3</td>\n",
       "      <td>1</td>\n",
       "    </tr>\n",
       "    <tr>\n",
       "      <th>4</th>\n",
       "      <td>1</td>\n",
       "      <td>20.17</td>\n",
       "      <td>5.625</td>\n",
       "      <td>1</td>\n",
       "      <td>1</td>\n",
       "      <td>Industrials</td>\n",
       "      <td>White</td>\n",
       "      <td>1.71</td>\n",
       "      <td>1</td>\n",
       "      <td>0</td>\n",
       "      <td>0</td>\n",
       "      <td>0</td>\n",
       "      <td>ByOtherMeans</td>\n",
       "      <td>120</td>\n",
       "      <td>0</td>\n",
       "      <td>1</td>\n",
       "    </tr>\n",
       "  </tbody>\n",
       "</table>\n",
       "</div>"
      ],
      "text/plain": [
       "   Gender    Age   Debt  Married  BankCustomer     Industry Ethnicity  \\\n",
       "0       1  30.83  0.000        1             1  Industrials     White   \n",
       "1       0  58.67  4.460        1             1    Materials     Black   \n",
       "2       0  24.50  0.500        1             1    Materials     Black   \n",
       "3       1  27.83  1.540        1             1  Industrials     White   \n",
       "4       1  20.17  5.625        1             1  Industrials     White   \n",
       "\n",
       "   YearsEmployed  PriorDefault  Employed  CreditScore  DriversLicense  \\\n",
       "0           1.25             1         1            1               0   \n",
       "1           3.04             1         1            6               0   \n",
       "2           1.50             1         0            0               0   \n",
       "3           3.75             1         1            5               1   \n",
       "4           1.71             1         0            0               0   \n",
       "\n",
       "        Citizen  ZipCode  Income  Approved  \n",
       "0       ByBirth      202       0         1  \n",
       "1       ByBirth       43     560         1  \n",
       "2       ByBirth      280     824         1  \n",
       "3       ByBirth      100       3         1  \n",
       "4  ByOtherMeans      120       0         1  "
      ]
     },
     "execution_count": 6,
     "metadata": {},
     "output_type": "execute_result"
    }
   ],
   "source": [
    "data = pd.read_csv(\"clean_creditcard.csv\", sep = \",\")\n",
    "data.head()"
   ]
  },
  {
   "cell_type": "code",
   "execution_count": 7,
   "id": "1f23c09a",
   "metadata": {},
   "outputs": [],
   "source": [
    "newdata = data.drop('Approved', axis = 'columns')\n",
    "Target = data['Approved']"
   ]
  },
  {
   "cell_type": "markdown",
   "id": "f6aacfd3",
   "metadata": {},
   "source": [
    "#### Data PreProcessing \n",
    "First, we convert all the non-numeric data features into numeric values so that we can utilize the SciKit Learn ML library. SKLearn only uses numeric data. Label encoding in the SKLearn library will be used to do the conversion."
   ]
  },
  {
   "cell_type": "code",
   "execution_count": 8,
   "id": "129bead6",
   "metadata": {},
   "outputs": [],
   "source": [
    "from sklearn.preprocessing import LabelEncoder\n",
    "LabEnc = LabelEncoder()\n",
    "for i in data:\n",
    "    if data[i].dtypes == \"object\":\n",
    "        LabEnc.fit(data[i])\n",
    "        data[i] = LabEnc.transform(data[i])"
   ]
  },
  {
   "cell_type": "code",
   "execution_count": 9,
   "id": "ea8a65e0",
   "metadata": {},
   "outputs": [
    {
     "name": "stdout",
     "output_type": "stream",
     "text": [
      "<class 'pandas.core.frame.DataFrame'>\n",
      "RangeIndex: 690 entries, 0 to 689\n",
      "Data columns (total 16 columns):\n",
      " #   Column          Non-Null Count  Dtype  \n",
      "---  ------          --------------  -----  \n",
      " 0   Gender          690 non-null    int64  \n",
      " 1   Age             690 non-null    float64\n",
      " 2   Debt            690 non-null    float64\n",
      " 3   Married         690 non-null    int64  \n",
      " 4   BankCustomer    690 non-null    int64  \n",
      " 5   Industry        690 non-null    int64  \n",
      " 6   Ethnicity       690 non-null    int64  \n",
      " 7   YearsEmployed   690 non-null    float64\n",
      " 8   PriorDefault    690 non-null    int64  \n",
      " 9   Employed        690 non-null    int64  \n",
      " 10  CreditScore     690 non-null    int64  \n",
      " 11  DriversLicense  690 non-null    int64  \n",
      " 12  Citizen         690 non-null    int64  \n",
      " 13  ZipCode         690 non-null    int64  \n",
      " 14  Income          690 non-null    int64  \n",
      " 15  Approved        690 non-null    int64  \n",
      "dtypes: float64(3), int64(13)\n",
      "memory usage: 86.4 KB\n"
     ]
    }
   ],
   "source": [
    "data.info()"
   ]
  },
  {
   "cell_type": "markdown",
   "id": "66347080",
   "metadata": {},
   "source": [
    "#### Number of Credit Card Approvals"
   ]
  },
  {
   "cell_type": "code",
   "execution_count": 11,
   "id": "aaa891b9",
   "metadata": {},
   "outputs": [
    {
     "data": {
      "text/html": [
       "<div>\n",
       "<style scoped>\n",
       "    .dataframe tbody tr th:only-of-type {\n",
       "        vertical-align: middle;\n",
       "    }\n",
       "\n",
       "    .dataframe tbody tr th {\n",
       "        vertical-align: top;\n",
       "    }\n",
       "\n",
       "    .dataframe thead th {\n",
       "        text-align: right;\n",
       "    }\n",
       "</style>\n",
       "<table border=\"1\" class=\"dataframe\">\n",
       "  <thead>\n",
       "    <tr style=\"text-align: right;\">\n",
       "      <th></th>\n",
       "      <th>Gender</th>\n",
       "      <th>Age</th>\n",
       "      <th>Debt</th>\n",
       "      <th>Married</th>\n",
       "      <th>BankCustomer</th>\n",
       "      <th>Industry</th>\n",
       "      <th>Ethnicity</th>\n",
       "      <th>YearsEmployed</th>\n",
       "      <th>PriorDefault</th>\n",
       "      <th>Employed</th>\n",
       "      <th>CreditScore</th>\n",
       "      <th>DriversLicense</th>\n",
       "      <th>Citizen</th>\n",
       "      <th>ZipCode</th>\n",
       "      <th>Income</th>\n",
       "      <th>Approved</th>\n",
       "    </tr>\n",
       "  </thead>\n",
       "  <tbody>\n",
       "    <tr>\n",
       "      <th>0</th>\n",
       "      <td>1</td>\n",
       "      <td>30.83</td>\n",
       "      <td>0.000</td>\n",
       "      <td>1</td>\n",
       "      <td>1</td>\n",
       "      <td>7</td>\n",
       "      <td>4</td>\n",
       "      <td>1.25</td>\n",
       "      <td>1</td>\n",
       "      <td>1</td>\n",
       "      <td>1</td>\n",
       "      <td>0</td>\n",
       "      <td>0</td>\n",
       "      <td>202</td>\n",
       "      <td>0</td>\n",
       "      <td>1</td>\n",
       "    </tr>\n",
       "    <tr>\n",
       "      <th>1</th>\n",
       "      <td>0</td>\n",
       "      <td>58.67</td>\n",
       "      <td>4.460</td>\n",
       "      <td>1</td>\n",
       "      <td>1</td>\n",
       "      <td>9</td>\n",
       "      <td>1</td>\n",
       "      <td>3.04</td>\n",
       "      <td>1</td>\n",
       "      <td>1</td>\n",
       "      <td>6</td>\n",
       "      <td>0</td>\n",
       "      <td>0</td>\n",
       "      <td>43</td>\n",
       "      <td>560</td>\n",
       "      <td>1</td>\n",
       "    </tr>\n",
       "    <tr>\n",
       "      <th>2</th>\n",
       "      <td>0</td>\n",
       "      <td>24.50</td>\n",
       "      <td>0.500</td>\n",
       "      <td>1</td>\n",
       "      <td>1</td>\n",
       "      <td>9</td>\n",
       "      <td>1</td>\n",
       "      <td>1.50</td>\n",
       "      <td>1</td>\n",
       "      <td>0</td>\n",
       "      <td>0</td>\n",
       "      <td>0</td>\n",
       "      <td>0</td>\n",
       "      <td>280</td>\n",
       "      <td>824</td>\n",
       "      <td>1</td>\n",
       "    </tr>\n",
       "    <tr>\n",
       "      <th>3</th>\n",
       "      <td>1</td>\n",
       "      <td>27.83</td>\n",
       "      <td>1.540</td>\n",
       "      <td>1</td>\n",
       "      <td>1</td>\n",
       "      <td>7</td>\n",
       "      <td>4</td>\n",
       "      <td>3.75</td>\n",
       "      <td>1</td>\n",
       "      <td>1</td>\n",
       "      <td>5</td>\n",
       "      <td>1</td>\n",
       "      <td>0</td>\n",
       "      <td>100</td>\n",
       "      <td>3</td>\n",
       "      <td>1</td>\n",
       "    </tr>\n",
       "    <tr>\n",
       "      <th>4</th>\n",
       "      <td>1</td>\n",
       "      <td>20.17</td>\n",
       "      <td>5.625</td>\n",
       "      <td>1</td>\n",
       "      <td>1</td>\n",
       "      <td>7</td>\n",
       "      <td>4</td>\n",
       "      <td>1.71</td>\n",
       "      <td>1</td>\n",
       "      <td>0</td>\n",
       "      <td>0</td>\n",
       "      <td>0</td>\n",
       "      <td>1</td>\n",
       "      <td>120</td>\n",
       "      <td>0</td>\n",
       "      <td>1</td>\n",
       "    </tr>\n",
       "    <tr>\n",
       "      <th>...</th>\n",
       "      <td>...</td>\n",
       "      <td>...</td>\n",
       "      <td>...</td>\n",
       "      <td>...</td>\n",
       "      <td>...</td>\n",
       "      <td>...</td>\n",
       "      <td>...</td>\n",
       "      <td>...</td>\n",
       "      <td>...</td>\n",
       "      <td>...</td>\n",
       "      <td>...</td>\n",
       "      <td>...</td>\n",
       "      <td>...</td>\n",
       "      <td>...</td>\n",
       "      <td>...</td>\n",
       "      <td>...</td>\n",
       "    </tr>\n",
       "    <tr>\n",
       "      <th>599</th>\n",
       "      <td>1</td>\n",
       "      <td>20.50</td>\n",
       "      <td>2.415</td>\n",
       "      <td>1</td>\n",
       "      <td>1</td>\n",
       "      <td>4</td>\n",
       "      <td>4</td>\n",
       "      <td>2.00</td>\n",
       "      <td>1</td>\n",
       "      <td>1</td>\n",
       "      <td>11</td>\n",
       "      <td>1</td>\n",
       "      <td>0</td>\n",
       "      <td>200</td>\n",
       "      <td>3000</td>\n",
       "      <td>1</td>\n",
       "    </tr>\n",
       "    <tr>\n",
       "      <th>600</th>\n",
       "      <td>0</td>\n",
       "      <td>29.50</td>\n",
       "      <td>0.460</td>\n",
       "      <td>1</td>\n",
       "      <td>1</td>\n",
       "      <td>5</td>\n",
       "      <td>4</td>\n",
       "      <td>0.54</td>\n",
       "      <td>1</td>\n",
       "      <td>1</td>\n",
       "      <td>4</td>\n",
       "      <td>0</td>\n",
       "      <td>0</td>\n",
       "      <td>380</td>\n",
       "      <td>500</td>\n",
       "      <td>1</td>\n",
       "    </tr>\n",
       "    <tr>\n",
       "      <th>606</th>\n",
       "      <td>1</td>\n",
       "      <td>16.17</td>\n",
       "      <td>0.040</td>\n",
       "      <td>1</td>\n",
       "      <td>1</td>\n",
       "      <td>4</td>\n",
       "      <td>4</td>\n",
       "      <td>0.04</td>\n",
       "      <td>0</td>\n",
       "      <td>0</td>\n",
       "      <td>0</td>\n",
       "      <td>0</td>\n",
       "      <td>0</td>\n",
       "      <td>0</td>\n",
       "      <td>0</td>\n",
       "      <td>1</td>\n",
       "    </tr>\n",
       "    <tr>\n",
       "      <th>621</th>\n",
       "      <td>1</td>\n",
       "      <td>22.67</td>\n",
       "      <td>0.165</td>\n",
       "      <td>1</td>\n",
       "      <td>1</td>\n",
       "      <td>4</td>\n",
       "      <td>3</td>\n",
       "      <td>2.25</td>\n",
       "      <td>0</td>\n",
       "      <td>0</td>\n",
       "      <td>0</td>\n",
       "      <td>1</td>\n",
       "      <td>1</td>\n",
       "      <td>0</td>\n",
       "      <td>0</td>\n",
       "      <td>1</td>\n",
       "    </tr>\n",
       "    <tr>\n",
       "      <th>622</th>\n",
       "      <td>0</td>\n",
       "      <td>25.58</td>\n",
       "      <td>0.000</td>\n",
       "      <td>1</td>\n",
       "      <td>1</td>\n",
       "      <td>4</td>\n",
       "      <td>4</td>\n",
       "      <td>0.00</td>\n",
       "      <td>0</td>\n",
       "      <td>0</td>\n",
       "      <td>0</td>\n",
       "      <td>0</td>\n",
       "      <td>2</td>\n",
       "      <td>0</td>\n",
       "      <td>0</td>\n",
       "      <td>1</td>\n",
       "    </tr>\n",
       "  </tbody>\n",
       "</table>\n",
       "<p>307 rows × 16 columns</p>\n",
       "</div>"
      ],
      "text/plain": [
       "     Gender    Age   Debt  Married  BankCustomer  Industry  Ethnicity  \\\n",
       "0         1  30.83  0.000        1             1         7          4   \n",
       "1         0  58.67  4.460        1             1         9          1   \n",
       "2         0  24.50  0.500        1             1         9          1   \n",
       "3         1  27.83  1.540        1             1         7          4   \n",
       "4         1  20.17  5.625        1             1         7          4   \n",
       "..      ...    ...    ...      ...           ...       ...        ...   \n",
       "599       1  20.50  2.415        1             1         4          4   \n",
       "600       0  29.50  0.460        1             1         5          4   \n",
       "606       1  16.17  0.040        1             1         4          4   \n",
       "621       1  22.67  0.165        1             1         4          3   \n",
       "622       0  25.58  0.000        1             1         4          4   \n",
       "\n",
       "     YearsEmployed  PriorDefault  Employed  CreditScore  DriversLicense  \\\n",
       "0             1.25             1         1            1               0   \n",
       "1             3.04             1         1            6               0   \n",
       "2             1.50             1         0            0               0   \n",
       "3             3.75             1         1            5               1   \n",
       "4             1.71             1         0            0               0   \n",
       "..             ...           ...       ...          ...             ...   \n",
       "599           2.00             1         1           11               1   \n",
       "600           0.54             1         1            4               0   \n",
       "606           0.04             0         0            0               0   \n",
       "621           2.25             0         0            0               1   \n",
       "622           0.00             0         0            0               0   \n",
       "\n",
       "     Citizen  ZipCode  Income  Approved  \n",
       "0          0      202       0         1  \n",
       "1          0       43     560         1  \n",
       "2          0      280     824         1  \n",
       "3          0      100       3         1  \n",
       "4          1      120       0         1  \n",
       "..       ...      ...     ...       ...  \n",
       "599        0      200    3000         1  \n",
       "600        0      380     500         1  \n",
       "606        0        0       0         1  \n",
       "621        1        0       0         1  \n",
       "622        2        0       0         1  \n",
       "\n",
       "[307 rows x 16 columns]"
      ]
     },
     "execution_count": 11,
     "metadata": {},
     "output_type": "execute_result"
    }
   ],
   "source": [
    "data[data.Approved == 1]"
   ]
  },
  {
   "cell_type": "markdown",
   "id": "1938acf5",
   "metadata": {},
   "source": [
    "#### Visualization of Credit Card Approvals Based on Years of Employment"
   ]
  },
  {
   "cell_type": "code",
   "execution_count": 22,
   "id": "32ed6cd3",
   "metadata": {},
   "outputs": [
    {
     "data": {
      "text/plain": [
       "<matplotlib.legend.Legend at 0x7ff9cb5a7490>"
      ]
     },
     "execution_count": 22,
     "metadata": {},
     "output_type": "execute_result"
    },
    {
     "data": {
      "image/png": "[encoded data removed]",
      "text/plain": [
       "<Figure size 432x288 with 1 Axes>"
      ]
     },
     "metadata": {
      "needs_background": "light"
     },
     "output_type": "display_data"
    }
   ],
   "source": [
    "yrsEmp_yes_approval = data[data.Approved == 1].YearsEmployed\n",
    "yrsEmp_no_approval  = data[data.Approved == 0].YearsEmployed\n",
    "\n",
    "plt.xlabel(\"Number of Years Employed\")\n",
    "plt.ylabel(\"Number of Credit Card Approvals\")\n",
    "plt.title(\"Customer Credit Card Approval Prediction\")\n",
    "\n",
    "plt.hist([yrsEmp_yes_approval, yrsEmp_no_approval], rwidth = 0.95, color = ['blue', 'green'], label = ['Approval = Yes', 'Approval = No'])\n",
    "plt.legend()"
   ]
  },
  {
   "cell_type": "markdown",
   "id": "02cd30f0",
   "metadata": {},
   "source": [
    "Observe from the histogram above that, the approval rating of customers that have been employed for more than two years is high compared to credit card application denials. Meanwhile, customers with less than 2 and half years receive twice as much denials as approvals."
   ]
  },
  {
   "cell_type": "markdown",
   "id": "b1c58c03",
   "metadata": {},
   "source": [
    "#### Visualization of Credit Card Approvals Based on Income"
   ]
  },
  {
   "cell_type": "code",
   "execution_count": 23,
   "id": "854acdb6",
   "metadata": {},
   "outputs": [
    {
     "data": {
      "text/plain": [
       "<matplotlib.legend.Legend at 0x7ff9cb9daf70>"
      ]
     },
     "execution_count": 23,
     "metadata": {},
     "output_type": "execute_result"
    },
    {
     "data": {
      "image/png": "[encoded data removed]",
      "text/plain": [
       "<Figure size 432x288 with 1 Axes>"
      ]
     },
     "metadata": {
      "needs_background": "light"
     },
     "output_type": "display_data"
    }
   ],
   "source": [
    "income_yes_approval = data[data.Approved == 1].Income\n",
    "income_no_approval  = data[data.Approved == 0].Income\n",
    "\n",
    "plt.xlabel(\"Income\")\n",
    "plt.ylabel(\"Number of Credit Card Approvals\")\n",
    "plt.title(\"Customer Credit Card Approval Prediction\")\n",
    "\n",
    "plt.hist([income_yes_approval, income_no_approval], rwidth = 0.95, color = ['blue', 'green'], label = ['Approval = Yes', 'Approval = No'])\n",
    "plt.legend()"
   ]
  },
  {
   "cell_type": "markdown",
   "id": "b01ad4fb",
   "metadata": {},
   "source": [
    "Observe from the histogram above that, the approval rating of customers who earn more than USD10,000 is high compared to credit card application denials. Meanwhile, customers who earn less than USD10,000 receive more credit card application denials than approvals."
   ]
  },
  {
   "cell_type": "markdown",
   "id": "e71e93af",
   "metadata": {},
   "source": [
    "#### Splitting Data"
   ]
  },
  {
   "cell_type": "code",
   "execution_count": 26,
   "id": "ad17d9da",
   "metadata": {},
   "outputs": [],
   "source": [
    "X = data.drop('Approved', axis = 'columns')\n",
    "y = data['Approved']\n",
    "\n",
    "from sklearn.model_selection import train_test_split\n",
    "Xtrain, Xtest, ytrain, ytest = train_test_split(X, y, test_size = 0.25)"
   ]
  },
  {
   "cell_type": "markdown",
   "id": "c57bc3ad",
   "metadata": {},
   "source": [
    "#### Rescaling Data\n",
    "We now rescale the observations of the various features to range between 0 and 1. "
   ]
  },
  {
   "cell_type": "code",
   "execution_count": 40,
   "id": "d0bf47ec",
   "metadata": {},
   "outputs": [],
   "source": [
    "from sklearn.preprocessing import MinMaxScaler\n",
    "\n",
    "scaler = MinMaxScaler(feature_range = (0,1))\n",
    "rescaled_Xtest = scaler.fit_transform(Xtest)\n",
    "rescaled_Xtrain = scaler.fit_transform(Xtrain)"
   ]
  },
  {
   "cell_type": "code",
   "execution_count": 41,
   "id": "7d42309c",
   "metadata": {},
   "outputs": [
    {
     "data": {
      "text/plain": [
       "(517, 15)"
      ]
     },
     "execution_count": 41,
     "metadata": {},
     "output_type": "execute_result"
    }
   ],
   "source": [
    "rescaled_Xtrain.shape"
   ]
  },
  {
   "cell_type": "code",
   "execution_count": 42,
   "id": "6730e842",
   "metadata": {},
   "outputs": [
    {
     "data": {
      "text/plain": [
       "(173, 15)"
      ]
     },
     "execution_count": 42,
     "metadata": {},
     "output_type": "execute_result"
    }
   ],
   "source": [
    "rescaled_Xtest.shape"
   ]
  },
  {
   "cell_type": "markdown",
   "id": "3e51e142",
   "metadata": {},
   "source": [
    "### Building ANN model in Tensorflow/Keras"
   ]
  },
  {
   "cell_type": "code",
   "execution_count": 37,
   "id": "a38ac98a",
   "metadata": {},
   "outputs": [
    {
     "name": "stdout",
     "output_type": "stream",
     "text": [
      "Epoch 1/90\n",
      "17/17 [==============================] - 0s 943us/step - loss: 0.7634 - accuracy: 0.5590\n",
      "Epoch 2/90\n",
      "17/17 [==============================] - 0s 1ms/step - loss: 0.7239 - accuracy: 0.5493\n",
      "Epoch 3/90\n",
      "17/17 [==============================] - 0s 1ms/step - loss: 0.7035 - accuracy: 0.5551\n",
      "Epoch 4/90\n",
      "17/17 [==============================] - 0s 1ms/step - loss: 0.6882 - accuracy: 0.5745\n",
      "Epoch 5/90\n",
      "17/17 [==============================] - 0s 1ms/step - loss: 0.6736 - accuracy: 0.6093\n",
      "Epoch 6/90\n",
      "17/17 [==============================] - 0s 1ms/step - loss: 0.6567 - accuracy: 0.6286\n",
      "Epoch 7/90\n",
      "17/17 [==============================] - 0s 1ms/step - loss: 0.6350 - accuracy: 0.6731\n",
      "Epoch 8/90\n",
      "17/17 [==============================] - 0s 1ms/step - loss: 0.6040 - accuracy: 0.7602\n",
      "Epoch 9/90\n",
      "17/17 [==============================] - 0s 2ms/step - loss: 0.5605 - accuracy: 0.8104\n",
      "Epoch 10/90\n",
      "17/17 [==============================] - 0s 1ms/step - loss: 0.5160 - accuracy: 0.8433\n",
      "Epoch 11/90\n",
      "17/17 [==============================] - 0s 1ms/step - loss: 0.4714 - accuracy: 0.8530\n",
      "Epoch 12/90\n",
      "17/17 [==============================] - 0s 1ms/step - loss: 0.4347 - accuracy: 0.8627\n",
      "Epoch 13/90\n",
      "17/17 [==============================] - 0s 1ms/step - loss: 0.4052 - accuracy: 0.8646\n",
      "Epoch 14/90\n",
      "17/17 [==============================] - 0s 1ms/step - loss: 0.3839 - accuracy: 0.8646\n",
      "Epoch 15/90\n",
      "17/17 [==============================] - 0s 1ms/step - loss: 0.3705 - accuracy: 0.8665\n",
      "Epoch 16/90\n",
      "17/17 [==============================] - 0s 1ms/step - loss: 0.3612 - accuracy: 0.8646\n",
      "Epoch 17/90\n",
      "17/17 [==============================] - 0s 1ms/step - loss: 0.3510 - accuracy: 0.8646\n",
      "Epoch 18/90\n",
      "17/17 [==============================] - 0s 1ms/step - loss: 0.3438 - accuracy: 0.8685\n",
      "Epoch 19/90\n",
      "17/17 [==============================] - 0s 1ms/step - loss: 0.3400 - accuracy: 0.8665\n",
      "Epoch 20/90\n",
      "17/17 [==============================] - 0s 2ms/step - loss: 0.3367 - accuracy: 0.8723\n",
      "Epoch 21/90\n",
      "17/17 [==============================] - 0s 2ms/step - loss: 0.3340 - accuracy: 0.8704\n",
      "Epoch 22/90\n",
      "17/17 [==============================] - 0s 2ms/step - loss: 0.3299 - accuracy: 0.8801\n",
      "Epoch 23/90\n",
      "17/17 [==============================] - 0s 2ms/step - loss: 0.3267 - accuracy: 0.8743\n",
      "Epoch 24/90\n",
      "17/17 [==============================] - 0s 2ms/step - loss: 0.3237 - accuracy: 0.8743\n",
      "Epoch 25/90\n",
      "17/17 [==============================] - 0s 1ms/step - loss: 0.3226 - accuracy: 0.8801\n",
      "Epoch 26/90\n",
      "17/17 [==============================] - 0s 1ms/step - loss: 0.3209 - accuracy: 0.8704\n",
      "Epoch 27/90\n",
      "17/17 [==============================] - 0s 1ms/step - loss: 0.3188 - accuracy: 0.8743\n",
      "Epoch 28/90\n",
      "17/17 [==============================] - 0s 1ms/step - loss: 0.3170 - accuracy: 0.8762\n",
      "Epoch 29/90\n",
      "17/17 [==============================] - 0s 1ms/step - loss: 0.3149 - accuracy: 0.8762\n",
      "Epoch 30/90\n",
      "17/17 [==============================] - 0s 1ms/step - loss: 0.3125 - accuracy: 0.8801\n",
      "Epoch 31/90\n",
      "17/17 [==============================] - 0s 1ms/step - loss: 0.3162 - accuracy: 0.8704\n",
      "Epoch 32/90\n",
      "17/17 [==============================] - 0s 1ms/step - loss: 0.3101 - accuracy: 0.8801\n",
      "Epoch 33/90\n",
      "17/17 [==============================] - 0s 1ms/step - loss: 0.3080 - accuracy: 0.8801\n",
      "Epoch 34/90\n",
      "17/17 [==============================] - 0s 1ms/step - loss: 0.3077 - accuracy: 0.8820\n",
      "Epoch 35/90\n",
      "17/17 [==============================] - 0s 1ms/step - loss: 0.3059 - accuracy: 0.8839\n",
      "Epoch 36/90\n",
      "17/17 [==============================] - 0s 1ms/step - loss: 0.3053 - accuracy: 0.8839\n",
      "Epoch 37/90\n",
      "17/17 [==============================] - 0s 1ms/step - loss: 0.3043 - accuracy: 0.8839\n",
      "Epoch 38/90\n",
      "17/17 [==============================] - 0s 1ms/step - loss: 0.3034 - accuracy: 0.8859\n",
      "Epoch 39/90\n",
      "17/17 [==============================] - 0s 1ms/step - loss: 0.3020 - accuracy: 0.8859\n",
      "Epoch 40/90\n",
      "17/17 [==============================] - 0s 1ms/step - loss: 0.3031 - accuracy: 0.8762\n",
      "Epoch 41/90\n",
      "17/17 [==============================] - 0s 1ms/step - loss: 0.3001 - accuracy: 0.8859\n",
      "Epoch 42/90\n",
      "17/17 [==============================] - 0s 1ms/step - loss: 0.3024 - accuracy: 0.8878\n",
      "Epoch 43/90\n",
      "17/17 [==============================] - 0s 1ms/step - loss: 0.3022 - accuracy: 0.8762\n",
      "Epoch 44/90\n",
      "17/17 [==============================] - 0s 996us/step - loss: 0.2988 - accuracy: 0.8781\n",
      "Epoch 45/90\n",
      "17/17 [==============================] - 0s 1ms/step - loss: 0.2997 - accuracy: 0.8801\n",
      "Epoch 46/90\n",
      "17/17 [==============================] - 0s 1ms/step - loss: 0.2971 - accuracy: 0.8839\n",
      "Epoch 47/90\n",
      "17/17 [==============================] - 0s 1ms/step - loss: 0.2968 - accuracy: 0.8839\n",
      "Epoch 48/90\n",
      "17/17 [==============================] - 0s 1ms/step - loss: 0.2949 - accuracy: 0.8859\n",
      "Epoch 49/90\n",
      "17/17 [==============================] - 0s 1ms/step - loss: 0.2944 - accuracy: 0.8859\n",
      "Epoch 50/90\n",
      "17/17 [==============================] - 0s 1ms/step - loss: 0.2946 - accuracy: 0.8859\n",
      "Epoch 51/90\n",
      "17/17 [==============================] - 0s 1ms/step - loss: 0.2938 - accuracy: 0.8936\n",
      "Epoch 52/90\n",
      "17/17 [==============================] - 0s 1ms/step - loss: 0.2951 - accuracy: 0.8839\n",
      "Epoch 53/90\n",
      "17/17 [==============================] - 0s 1ms/step - loss: 0.2928 - accuracy: 0.8975\n",
      "Epoch 54/90\n",
      "17/17 [==============================] - 0s 1ms/step - loss: 0.2916 - accuracy: 0.8936\n",
      "Epoch 55/90\n",
      "17/17 [==============================] - 0s 1ms/step - loss: 0.2907 - accuracy: 0.8917\n",
      "Epoch 56/90\n",
      "17/17 [==============================] - 0s 1ms/step - loss: 0.2895 - accuracy: 0.8897\n",
      "Epoch 57/90\n",
      "17/17 [==============================] - 0s 1ms/step - loss: 0.2889 - accuracy: 0.8859\n",
      "Epoch 58/90\n",
      "17/17 [==============================] - 0s 1ms/step - loss: 0.2904 - accuracy: 0.8917\n",
      "Epoch 59/90\n",
      "17/17 [==============================] - 0s 1ms/step - loss: 0.2896 - accuracy: 0.8936\n",
      "Epoch 60/90\n",
      "17/17 [==============================] - 0s 941us/step - loss: 0.2878 - accuracy: 0.8994\n",
      "Epoch 61/90\n",
      "17/17 [==============================] - 0s 1ms/step - loss: 0.2874 - accuracy: 0.8994\n",
      "Epoch 62/90\n",
      "17/17 [==============================] - 0s 1ms/step - loss: 0.2861 - accuracy: 0.8956\n",
      "Epoch 63/90\n",
      "17/17 [==============================] - 0s 1ms/step - loss: 0.2859 - accuracy: 0.9014\n",
      "Epoch 64/90\n",
      "17/17 [==============================] - 0s 929us/step - loss: 0.2853 - accuracy: 0.8936\n",
      "Epoch 65/90\n",
      "17/17 [==============================] - 0s 1ms/step - loss: 0.2847 - accuracy: 0.8936\n",
      "Epoch 66/90\n",
      "17/17 [==============================] - 0s 1ms/step - loss: 0.2843 - accuracy: 0.8975\n",
      "Epoch 67/90\n",
      "17/17 [==============================] - 0s 1ms/step - loss: 0.2846 - accuracy: 0.8917\n",
      "Epoch 68/90\n",
      "17/17 [==============================] - 0s 1ms/step - loss: 0.2848 - accuracy: 0.8897\n",
      "Epoch 69/90\n",
      "17/17 [==============================] - 0s 941us/step - loss: 0.2824 - accuracy: 0.8994\n",
      "Epoch 70/90\n",
      "17/17 [==============================] - 0s 1ms/step - loss: 0.2823 - accuracy: 0.9014\n",
      "Epoch 71/90\n",
      "17/17 [==============================] - 0s 1ms/step - loss: 0.2822 - accuracy: 0.8936\n",
      "Epoch 72/90\n",
      "17/17 [==============================] - 0s 1ms/step - loss: 0.2809 - accuracy: 0.9014\n",
      "Epoch 73/90\n",
      "17/17 [==============================] - 0s 1ms/step - loss: 0.2809 - accuracy: 0.9014\n",
      "Epoch 74/90\n",
      "17/17 [==============================] - 0s 1ms/step - loss: 0.2805 - accuracy: 0.9014\n",
      "Epoch 75/90\n",
      "17/17 [==============================] - 0s 1ms/step - loss: 0.2798 - accuracy: 0.8975\n",
      "Epoch 76/90\n",
      "17/17 [==============================] - 0s 950us/step - loss: 0.2805 - accuracy: 0.8956\n",
      "Epoch 77/90\n",
      "17/17 [==============================] - 0s 1ms/step - loss: 0.2804 - accuracy: 0.8897\n",
      "Epoch 78/90\n",
      "17/17 [==============================] - 0s 948us/step - loss: 0.2809 - accuracy: 0.8994\n",
      "Epoch 79/90\n",
      "17/17 [==============================] - 0s 975us/step - loss: 0.2793 - accuracy: 0.9014\n",
      "Epoch 80/90\n",
      "17/17 [==============================] - 0s 939us/step - loss: 0.2794 - accuracy: 0.8975\n",
      "Epoch 81/90\n",
      "17/17 [==============================] - 0s 978us/step - loss: 0.2781 - accuracy: 0.8994\n",
      "Epoch 82/90\n",
      "17/17 [==============================] - 0s 871us/step - loss: 0.2777 - accuracy: 0.8975\n",
      "Epoch 83/90\n",
      "17/17 [==============================] - 0s 887us/step - loss: 0.2782 - accuracy: 0.8936\n",
      "Epoch 84/90\n",
      "17/17 [==============================] - 0s 918us/step - loss: 0.2771 - accuracy: 0.8956\n",
      "Epoch 85/90\n",
      "17/17 [==============================] - 0s 868us/step - loss: 0.2776 - accuracy: 0.8956\n",
      "Epoch 86/90\n",
      "17/17 [==============================] - 0s 990us/step - loss: 0.2770 - accuracy: 0.8975\n",
      "Epoch 87/90\n",
      "17/17 [==============================] - 0s 1ms/step - loss: 0.2785 - accuracy: 0.8897\n",
      "Epoch 88/90\n",
      "17/17 [==============================] - 0s 1ms/step - loss: 0.2757 - accuracy: 0.8994\n",
      "Epoch 89/90\n",
      "17/17 [==============================] - 0s 993us/step - loss: 0.2774 - accuracy: 0.8936\n",
      "Epoch 90/90\n",
      "17/17 [==============================] - 0s 993us/step - loss: 0.2744 - accuracy: 0.8917\n"
     ]
    },
    {
     "data": {
      "text/plain": [
       "<keras.callbacks.History at 0x7ff9b483ffd0>"
      ]
     },
     "execution_count": 37,
     "metadata": {},
     "output_type": "execute_result"
    }
   ],
   "source": [
    "import tensorflow as tf\n",
    "from tensorflow import keras\n",
    "\n",
    "ANNmodel = keras.Sequential([\n",
    "    keras.layers.Dense(15, input_shape = (15, ), activation = 'relu'),\n",
    "    keras.layers.Dense(10, activation = 'relu'),\n",
    "    keras.layers.Dense(1, activation = 'sigmoid')\n",
    "])\n",
    "\n",
    "ANNmodel.compile(optimizer = 'adam', \n",
    "                 loss = 'binary_crossentropy',\n",
    "                 metrics = ['accuracy'])\n",
    "\n",
    "ANNmodel.fit(rescaled_Xtrain, ytrain, epochs = 90)"
   ]
  },
  {
   "cell_type": "markdown",
   "id": "e95062fc",
   "metadata": {},
   "source": [
    "Observe, that our ANN model achieves 89% accuracy level with a low loss of 0.27 of the training ANN model. The accuracy for prediction using the test set 85% is same as that of the logistic regression model (85%). "
   ]
  },
  {
   "cell_type": "code",
   "execution_count": 39,
   "id": "68ff36a0",
   "metadata": {},
   "outputs": [
    {
     "name": "stdout",
     "output_type": "stream",
     "text": [
      "6/6 [==============================] - 0s 1ms/step - loss: 0.3945 - accuracy: 0.8497\n"
     ]
    },
    {
     "data": {
      "text/plain": [
       "[0.39449769258499146, 0.849711000919342]"
      ]
     },
     "execution_count": 39,
     "metadata": {},
     "output_type": "execute_result"
    }
   ],
   "source": [
    "ANNmodel.evaluate(rescaled_Xtest, ytest)"
   ]
  },
  {
   "cell_type": "code",
   "execution_count": 46,
   "id": "65131728",
   "metadata": {},
   "outputs": [
    {
     "data": {
      "text/plain": [
       "array([[0.8535745 ],\n",
       "       [0.9290023 ],\n",
       "       [0.9911797 ],\n",
       "       [0.02902961],\n",
       "       [0.00782621],\n",
       "       [0.3399282 ],\n",
       "       [0.07249308],\n",
       "       [0.9804727 ],\n",
       "       [0.06987694],\n",
       "       [0.05146903]], dtype=float32)"
      ]
     },
     "execution_count": 46,
     "metadata": {},
     "output_type": "execute_result"
    }
   ],
   "source": [
    "yp = ANNmodel.predict(rescaled_Xtest)\n",
    "yp[:10]"
   ]
  },
  {
   "cell_type": "code",
   "execution_count": 47,
   "id": "8ffaa9f5",
   "metadata": {},
   "outputs": [
    {
     "data": {
      "text/plain": [
       "[1, 1, 1, 0, 0, 0, 0, 1, 0, 0]"
      ]
     },
     "execution_count": 47,
     "metadata": {},
     "output_type": "execute_result"
    }
   ],
   "source": [
    "ypred = []\n",
    "for i in yp:\n",
    "    if i > 0.5:\n",
    "        ypred.append(1)\n",
    "    else:\n",
    "        ypred.append(0)\n",
    "ypred[:10]"
   ]
  },
  {
   "cell_type": "markdown",
   "id": "b620572d",
   "metadata": {},
   "source": [
    "#### Confusion Matrix & Classification Report"
   ]
  },
  {
   "cell_type": "code",
   "execution_count": 56,
   "id": "f1e16463",
   "metadata": {},
   "outputs": [
    {
     "name": "stdout",
     "output_type": "stream",
     "text": [
      "              precision    recall  f1-score   support\n",
      "\n",
      "           0       0.87      0.85      0.86        94\n",
      "           1       0.83      0.85      0.84        79\n",
      "\n",
      "    accuracy                           0.85       173\n",
      "   macro avg       0.85      0.85      0.85       173\n",
      "weighted avg       0.85      0.85      0.85       173\n",
      "\n"
     ]
    }
   ],
   "source": [
    "from sklearn.metrics import confusion_matrix, classification_report\n",
    "print(classification_report(ytest, ypred))"
   ]
  },
  {
   "cell_type": "code",
   "execution_count": 57,
   "id": "752c6b49",
   "metadata": {},
   "outputs": [
    {
     "data": {
      "text/plain": [
       "Text(15.0, 0.5, 'Actual')"
      ]
     },
     "execution_count": 57,
     "metadata": {},
     "output_type": "execute_result"
    },
    {
     "data": {
      "image/png": "[encoded data removed]",
      "text/plain": [
       "<Figure size 288x288 with 2 Axes>"
      ]
     },
     "metadata": {
      "needs_background": "light"
     },
     "output_type": "display_data"
    }
   ],
   "source": [
    "lgconfmat = confusion_matrix(ytest, ypred)\n",
    "\n",
    "plt.figure(figsize = (4, 4))\n",
    "sns.heatmap(lgconfmat, annot = True)\n",
    "plt.xlabel('Predicted')\n",
    "plt.ylabel('Actual')"
   ]
  },
  {
   "cell_type": "code",
   "execution_count": 58,
   "id": "95a9ac04",
   "metadata": {},
   "outputs": [
    {
     "name": "stdout",
     "output_type": "stream",
     "text": [
      "True Positives = 67\n",
      "False Positives = 14\n",
      "True Negatives = 80\n",
      "False Negatives = 12\n"
     ]
    }
   ],
   "source": [
    "TN, FP, FN, TP = confusion_matrix(ytest, ypred).ravel()\n",
    "print(f'True Positives = {TP}')\n",
    "print(f'False Positives = {FP}')\n",
    "print(f'True Negatives = {TN}')\n",
    "print(f'False Negatives = {FN}')"
   ]
  },
  {
   "cell_type": "markdown",
   "id": "dd70bc21",
   "metadata": {},
   "source": [
    "From our ANN model, we observe that out of 173 predictions made, we are wrong 26 times and correct 147 times which is approximately 85% given by the model's accuracy. We obtain very similar accuracy level from the ANN model as compared to the logistic regression model. "
   ]
  },
  {
   "cell_type": "code",
   "execution_count": null,
   "id": "878c0cba",
   "metadata": {},
   "outputs": [],
   "source": []
  }
 ],
 "metadata": {
  "kernelspec": {
   "display_name": "Python 3 (ipykernel)",
   "language": "python",
   "name": "python3"
  },
  "language_info": {
   "codemirror_mode": {
    "name": "ipython",
    "version": 3
   },
   "file_extension": ".py",
   "mimetype": "text/x-python",
   "name": "python",
   "nbconvert_exporter": "python",
   "pygments_lexer": "ipython3",
   "version": "3.9.7"
  }
 },
 "nbformat": 4,
 "nbformat_minor": 5
}
